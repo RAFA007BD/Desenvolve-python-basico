{
 "cells": [
  {
   "cell_type": "markdown",
   "id": "0d5035b5",
   "metadata": {},
   "source": [
    "# Tupla\n",
    "\n",
    "## Aula 8.2"
   ]
  },
  {
   "cell_type": "markdown",
   "id": "0bdece85",
   "metadata": {},
   "source": [
    "### Q1. \n",
    "\n",
    "Escreva uma função ```calcula_area_perimetro``` que recebe **apenas um parâmetro** ```dimensoes``` e calcula a área e o perímetro a partir das dimensões dadas. \n",
    "- ```dimensoes``` é uma tupla (largura, comprimento) com as dimensões de um terreno retangular\n",
    "- Sua função deve calcular e retornar as seguintes operações\n",
    "   - $area = largura \\times comprimento$\n",
    "   - $perimetro = 2\\times(largura + comprimento)$\n"
   ]
  },
  {
   "cell_type": "code",
   "execution_count": null,
   "id": "0a258eba",
   "metadata": {},
   "outputs": [],
   "source": [
    "# Implemente aqui a função calcula_area_perimetro\n",
    "def calcula_area_perimetro(dimensoes):\n",
    "    \"\"\"\n",
    "    Calcula a área e o perímetro de um terreno retangular.\n",
    "    \n",
    "    Parameters:\n",
    "    dimensoes (tuple): Tupla contendo a largura e o comprimento do terreno (largura, comprimento)\n",
    "    \n",
    "    Returns:\n",
    "    tuple: Tupla contendo a área e o perímetro do terreno\n",
    "    \"\"\"\n",
    "    # Desempacota a tupla em largura e comprimento\n",
    "    largura, comprimento = dimensoes\n",
    "    \n",
    "    # Calcula a área\n",
    "    area = largura * comprimento\n",
    "    \n",
    "    # Calcula o perímetro\n",
    "    perimetro = 2 * (largura + comprimento)\n",
    "    \n",
    "    # Retorna a área e o perímetro como uma tupla\n",
    "    return area, perimetro\n",
    "\n",
    "# Exemplo de uso da função\n",
    "dimensoes_terreno = (10, 20)\n",
    "\n",
    "# Calcula a área e o perímetro\n",
    "area, perimetro = calcula_area_perimetro(dimensoes_terreno)\n",
    "\n",
    "# Exibe os resultados\n",
    "print(f\"A área do terreno é: {area} unidades quadradas\")\n",
    "print(f\"O perímetro do terreno é: {perimetro} unidades\")\n",
    "\n"
   ]
  },
  {
   "cell_type": "code",
   "execution_count": null,
   "id": "e1866c04",
   "metadata": {},
   "outputs": [],
   "source": [
    "# Complete o exemplo de uso abaixo\n",
    "largura = 5\n",
    "comprimento = 7\n",
    "\n",
    "retorno = ## complete aqui a chamada da função\n",
    "print(retorno, type(retorno))"
   ]
  },
  {
   "cell_type": "markdown",
   "id": "cbdcb986",
   "metadata": {},
   "source": [
    "### Q2.\n",
    "\n",
    "Dada uma string, imprima todas as vogais que aparecem na string, bem como todos os índices onde elas ocorrem. Para isso, use a função ```enumerate```.\n"
   ]
  },
  {
   "cell_type": "code",
   "execution_count": 1,
   "id": "1f6b1f2d",
   "metadata": {},
   "outputs": [
    {
     "name": "stdout",
     "output_type": "stream",
     "text": [
      "A vogal 'O' aparece nos índices: [0]\n",
      "A vogal 'a' aparece nos índices: [3, 12, 18, 21]\n",
      "A vogal 'o' aparece nos índices: [5, 8, 15]\n",
      "A vogal 'e' aparece nos índices: [9, 27]\n",
      "A vogal 'u' aparece nos índices: [10, 16]\n",
      "A vogal 'A' aparece nos índices: [23]\n",
      "A vogal 'i' aparece nos índices: [25]\n"
     ]
    }
   ],
   "source": [
    "frase = \"O rato roeu a roupa da Alice\"\n",
    "\n",
    "# Implemente aqui sua solução\n",
    "\n",
    "def imprimir_vogais_indices(string):\n",
    "    # Define as vogais\n",
    "    vogais = 'aeiouAEIOU'\n",
    "    \n",
    "    # Cria um dicionário para armazenar os índices das vogais\n",
    "    indices_vogais = {}\n",
    "    \n",
    "    \n",
    "    for indice, caractere in enumerate(string):\n",
    "        if caractere in vogais:\n",
    "            if caractere not in indices_vogais:\n",
    "                indices_vogais[caractere] = []\n",
    "            indices_vogais[caractere].append(indice)\n",
    "    \n",
    "    # Imprime as vogais e seus índices\n",
    "    for vogal, indices in indices_vogais.items():\n",
    "        print(f\"A vogal '{vogal}' aparece nos índices: {indices}\")\n",
    "\n",
    "\n",
    "# Imprime as vogais e seus índices\n",
    "imprimir_vogais_indices(frase)\n"
   ]
  },
  {
   "cell_type": "markdown",
   "id": "8d46663f",
   "metadata": {},
   "source": [
    "### Q3.\n",
    "\n",
    "Escreva uma função em Python chamada ```ordenar_tuplas``` que recebe uma lista de tuplas, cada uma contendo o nome de um aluno e sua respectiva média, e retorna uma nova lista ordenada em ordem decrescente de médias."
   ]
  },
  {
   "cell_type": "code",
   "execution_count": null,
   "id": "469f2e6e",
   "metadata": {},
   "outputs": [],
   "source": [
    "# Implemente aqui a função ordenar_tuplas\n",
    "\n",
    "def ordenar_tuplas(lista_tuplas):\n",
    "    \"\"\"\n",
    "    Ordena uma lista de tuplas contendo o nome de um aluno e sua média em ordem decrescente de médias.\n",
    "    \n",
    "    Parameters:\n",
    "    lista_tuplas (list of tuples): Lista de tuplas onde cada tupla contém (nome, média) do aluno\n",
    "    \n",
    "    Returns:\n",
    "    list of tuples: Lista de tuplas ordenada em ordem decrescente de médias\n",
    "    \"\"\"\n",
    "    # Ordena a lista de tuplas com base na média (segundo elemento da tupla) em ordem decrescente\n",
    "    lista_ordenada = sorted(lista_tuplas, key=lambda x: x[1], reverse=True)\n",
    "    \n",
    "    return lista_ordenada\n",
    "\n",
    "# Exemplo de uso da função\n",
    "lista_alunos = [\n",
    "    (\"Alice\", 8.5),\n",
    "    (\"Bob\", 7.2),\n",
    "    (\"Charlie\", 9.0),\n",
    "    (\"David\", 8.8)\n",
    "]\n",
    "\n",
    "# Ordena a lista de alunos por média\n",
    "lista_ordenada = ordenar_tuplas(lista_alunos)\n",
    "\n",
    "# Exibe a lista ordenada\n",
    "print(\"Lista de alunos ordenada por média (em ordem decrescente):\")\n",
    "for aluno in lista_ordenada:\n",
    "    print(f\"Nome: {aluno[0]}, Média: {aluno[1]}\")\n"
   ]
  },
  {
   "cell_type": "code",
   "execution_count": null,
   "id": "1972c62b",
   "metadata": {},
   "outputs": [],
   "source": [
    "# Exemplo de uso:\n",
    "alunos_notas = [('Alice', 8.5), ('Bob', 7.2), ('Charlie', 9.0), ('David', 8.8)]\n",
    "resultado = ordenar_tuplas(alunos_notas)\n",
    "print(resultado)\n",
    "# Saída esperada: [('Charlie', 9.0), ('David', 8.8), ('Alice', 8.5), ('Bob', 7.2)]"
   ]
  },
  {
   "cell_type": "markdown",
   "id": "e0268fae",
   "metadata": {},
   "source": [
    "### Q4.\n",
    "\n",
    "Escreva uma função em Python chamada ```comprimir_tuplas``` que recebe uma lista de tuplas, cada uma contendo uma palavra e um número, e retorna uma nova lista de tuplas onde palavras idênticas são agrupadas e seus números são somados.\n",
    "\n"
   ]
  },
  {
   "cell_type": "code",
   "execution_count": null,
   "id": "30a221f3",
   "metadata": {},
   "outputs": [],
   "source": [
    "# Implemente aqui a função comprimir_tuplas"
   ]
  },
  {
   "cell_type": "code",
   "execution_count": null,
   "id": "80972bac",
   "metadata": {},
   "outputs": [],
   "source": [
    "# Exemplo de uso:\n",
    "tuplas_originais = [('maçã', 3), ('banana', 2), ('maçã', 5), ('laranja', 1), ('banana', 3)]\n",
    "resultado = comprimir_tuplas(tuplas_originais)\n",
    "print(resultado)\n",
    "# Saída esperada: [('maçã', 8), ('banana', 5), ('laranja', 1)]"
   ]
  },
  {
   "cell_type": "markdown",
   "id": "649a5082",
   "metadata": {},
   "source": [
    "### Q5. \n",
    "\n",
    "- Escreva um script que peça o nome e a idade de todos na fila de uma balada. Crie uma lista de tuplas com os pares ```(nome, idade)``` de cada um. \n",
    "- Em seguida crie e imprima duas tuplas apenas com os nomes, uma com os menores de idade que não poderão entrar, e uma com os maiores de idade (```idade >= 18```). \n",
    "\n"
   ]
  },
  {
   "cell_type": "code",
   "execution_count": null,
   "id": "47cb0573",
   "metadata": {},
   "outputs": [],
   "source": [
    "## Implemente aqui sua solução\n",
    "def obter_pessoas_na_fila():\n",
    "    \n",
    "    lista_pessoas = []\n",
    "    \n",
    "    while True:\n",
    "        nome = input(\"Digite o nome (ou 'fim' para encerrar): \")\n",
    "        if nome.lower() == 'fim':\n",
    "            break\n",
    "        idade = int(input(f\"Digite a idade de {nome}: \"))\n",
    "        lista_pessoas.append((nome, idade))\n",
    "    \n",
    "    return lista_pessoas\n",
    "\n",
    "def separar_maiores_menores(lista_pessoas):\n",
    "   \n",
    "    menores_idade = ()\n",
    "    maiores_idade = ()\n",
    "    \n",
    "    for nome, idade in lista_pessoas:\n",
    "        if idade < 18:\n",
    "            menores_idade += (nome,)\n",
    "        else:\n",
    "            maiores_idade += (nome,)\n",
    "    \n",
    "    return menores_idade, maiores_idade\n",
    "\n",
    "# Obter lista de pessoas na fila\n",
    "lista_pessoas = obter_pessoas_na_fila()\n",
    "\n",
    "# Separar em menores e maiores de idade\n",
    "menores, maiores = separar_maiores_menores(lista_pessoas)\n",
    "\n",
    "# Imprimir os resultados\n",
    "print(\"\\nNomes dos menores de idade que não poderão entrar:\")\n",
    "print(menores)\n",
    "\n",
    "print(\"\\nNomes dos maiores de idade que poderão entrar:\")\n",
    "print(maiores)\n"
   ]
  }
 ],
 "metadata": {
  "kernelspec": {
   "display_name": "Python 3 (ipykernel)",
   "language": "python",
   "name": "python3"
  },
  "language_info": {
   "codemirror_mode": {
    "name": "ipython",
    "version": 3
   },
   "file_extension": ".py",
   "mimetype": "text/x-python",
   "name": "python",
   "nbconvert_exporter": "python",
   "pygments_lexer": "ipython3",
   "version": "3.11.7"
  }
 },
 "nbformat": 4,
 "nbformat_minor": 5
}
