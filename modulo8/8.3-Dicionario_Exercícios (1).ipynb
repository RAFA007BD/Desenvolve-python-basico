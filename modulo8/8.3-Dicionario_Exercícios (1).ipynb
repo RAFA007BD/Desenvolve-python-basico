{
 "cells": [
  {
   "cell_type": "markdown",
   "id": "0d5035b5",
   "metadata": {},
   "source": [
    "# Dicionários\n",
    "\n",
    "## Aula 8.3"
   ]
  },
  {
   "cell_type": "markdown",
   "id": "0bdece85",
   "metadata": {},
   "source": [
    "### Q1. \n",
    "\n",
    "Escreva uma função em Python chamada ```contagem_caracteres``` que recebe uma string como parâmetro e retorna um dicionário onde as chaves são os caracteres presentes na string e os valores são a contagem de cada caractere.\n"
   ]
  },
  {
   "cell_type": "code",
   "execution_count": 1,
   "id": "09a9845d",
   "metadata": {},
   "outputs": [
    {
     "name": "stdout",
     "output_type": "stream",
     "text": [
      "Contagem de caracteres:\n",
      "'p': 2\n",
      "'y': 1\n",
      "'t': 1\n",
      "'h': 1\n",
      "'o': 2\n",
      "'n': 2\n",
      "' ': 1\n",
      "'r': 2\n",
      "'g': 2\n",
      "'a': 1\n",
      "'m': 2\n",
      "'i': 1\n"
     ]
    }
   ],
   "source": [
    "# Implemente aqui a função contagem_caracteres\n",
    "\n",
    "def contagem_caracteres(s):\n",
    "   \n",
    "    contagem = {}\n",
    "    \n",
    "    for caractere in s:\n",
    "        \n",
    "        if caractere in contagem:\n",
    "            contagem[caractere] += 1\n",
    "        else:\n",
    "            contagem[caractere] = 1\n",
    "    \n",
    "    return contagem\n",
    "\n",
    "# Exemplo de uso da função\n",
    "frase = \"python programming\"\n",
    "\n",
    "resultado = contagem_caracteres(frase)\n",
    "\n",
    "\n",
    "print(\"Contagem de caracteres:\")\n",
    "for caractere, quantidade in resultado.items():\n",
    "    print(f\"'{caractere}': {quantidade}\")\n"
   ]
  },
  {
   "cell_type": "code",
   "execution_count": null,
   "id": "0a258eba",
   "metadata": {},
   "outputs": [],
   "source": [
    "# Exemplo de uso:\n",
    "frase = \"python programming\"\n",
    "resultado = contagem_caracteres(frase)\n",
    "print(resultado)"
   ]
  },
  {
   "cell_type": "markdown",
   "id": "649a5082",
   "metadata": {},
   "source": [
    "### Q2. \n",
    "\n",
    "Baixe o arquivo contendo o roteiro do filme brasileiro \"Estômago\" e salve em seu computador com o nome \"estomago.txt\".\n",
    "\n",
    "https://aplauso.imprensaoficial.com.br/edicoes/12.0.813.502/12.0.813.502.txt\n",
    "\n",
    "- Escreva um script python que abre o arquivo de texto e cria um dicionário contando a quantidade de vezes que cada palavra aparece no texto.\n",
    "- Em seguida ordene o dicionário de forma decrescente pelos valores. Dessa maneira ele irá apresentar as palavras mais frequentes no início.\n",
    "- Apresente na tela o dicionário ordenado\n"
   ]
  },
  {
   "cell_type": "code",
   "execution_count": 2,
   "id": "47cb0573",
   "metadata": {},
   "outputs": [
    {
     "ename": "SyntaxError",
     "evalue": "(unicode error) 'unicodeescape' codec can't decode bytes in position 2-3: truncated \\UXXXXXXXX escape (685245000.py, line 33)",
     "output_type": "error",
     "traceback": [
      "\u001b[1;36m  Cell \u001b[1;32mIn[2], line 33\u001b[1;36m\u001b[0m\n\u001b[1;33m    caminho_arquivo = \"C:\\Users\\PDBD031\\.vscode\\python\\estomago.txt\"\u001b[0m\n\u001b[1;37m                                                                    ^\u001b[0m\n\u001b[1;31mSyntaxError\u001b[0m\u001b[1;31m:\u001b[0m (unicode error) 'unicodeescape' codec can't decode bytes in position 2-3: truncated \\UXXXXXXXX escape\n"
     ]
    }
   ],
   "source": [
    "# Implemente aqui sua solução\n",
    "\n",
    "def contar_palavras_arquivo(caminho_arquivo):\n",
    "  \n",
    "    contagem_palavras = {}\n",
    "    \n",
    "    # Abre o arquivo para leitura\n",
    "    with open(caminho_arquivo, 'r', encoding='utf-8') as arquivo:\n",
    "        # Lê o conteúdo do arquivo\n",
    "        conteudo = arquivo.read()\n",
    "        \n",
    "        # Divide o texto em palavras usando espaços e quebras de linha como delimitadores\n",
    "        palavras = conteudo.split()\n",
    "        \n",
    "        # Conta a ocorrência de cada palavra\n",
    "        for palavra in palavras:\n",
    "            palavra = palavra.lower()  # Converte a palavra para minúscula\n",
    "            if palavra in contagem_palavras:\n",
    "                contagem_palavras[palavra] += 1\n",
    "            else:\n",
    "                contagem_palavras[palavra] = 1\n",
    "    \n",
    "    return contagem_palavras\n",
    "\n",
    "def ordenar_dicionario_por_valor(dicionario):\n",
    "\n",
    "    # Ordena o dicionário por valor em ordem decrescente\n",
    "    dicionario_ordenado = dict(sorted(dicionario.items(), key=lambda item: item[1], reverse=True))\n",
    "    \n",
    "    return dicionario_ordenado\n",
    "\n",
    "# Caminho para o arquivo de texto\n",
    "caminho_arquivo = \"C:\\Users\\PDBD031\\.vscode\\python\\estomago.txt\"\n",
    "\n",
    "# Conta as palavras no arquivo\n",
    "contagem_palavras = contar_palavras_arquivo(caminho_arquivo)\n",
    "\n",
    "# Ordena o dicionário por valor\n",
    "contagem_palavras_ordenada = ordenar_dicionario_por_valor(contagem_palavras)\n",
    "\n",
    "# Exibe o dicionário ordenado\n",
    "print(\"Dicionário ordenado por frequência de palavras:\")\n",
    "for palavra, contagem in contagem_palavras_ordenada.items():\n",
    "    print(f\"'{palavra}': {contagem}\")\n"
   ]
  },
  {
   "cell_type": "markdown",
   "id": "bb62d219",
   "metadata": {},
   "source": [
    "### Q3. \n",
    "\n",
    "Crie uma função chamada ```mesclar_dicionarios``` que recebe dois dicionários como parâmetros e retorna um novo dicionário contendo a fusão dos dois. Se houver chaves comuns, o maior valor deve prevalecer."
   ]
  },
  {
   "cell_type": "code",
   "execution_count": null,
   "id": "f4363612",
   "metadata": {},
   "outputs": [],
   "source": [
    "# Implemente aqui a função mesclar_dicionarios\n",
    "\n",
    "def mesclar_dicionarios(dicionario1, dicionario2):\n",
    "   \n",
    "    # Cria uma cópia do primeiro dicionário\n",
    "    dicionario_mesclado = dict(dicionario1)\n",
    "    \n",
    "    # Atualiza o dicionário mesclado com os valores do segundo dicionário\n",
    "    for chave, valor in dicionario2.items():\n",
    "        if chave in dicionario_mesclado:\n",
    "            dicionario_mesclado[chave] = max(dicionario_mesclado[chave], valor)\n",
    "        else:\n",
    "            dicionario_mesclado[chave] = valor\n",
    "    \n",
    "    return dicionario_mesclado\n"
   ]
  },
  {
   "cell_type": "code",
   "execution_count": null,
   "id": "add41556",
   "metadata": {},
   "outputs": [],
   "source": [
    "# Exemplo de uso:\n",
    "dicionario1 = {'a': 1, 'b': 2, 'c': 3}\n",
    "dicionario2 = {'b': 4, 'd': 5}\n",
    "resultado = mesclar_dicionarios(dicionario1, dicionario2)\n",
    "print(resultado)\n",
    "# Saída esperada: {'a': 1, 'b': 4, 'c': 3, 'd': 5}"
   ]
  },
  {
   "cell_type": "markdown",
   "id": "8710b1a7",
   "metadata": {},
   "source": [
    "### Q4.\n",
    "\n",
    "Desenvolva uma função em Python chamada ```filtrar_dicionario``` que recebe um dicionário e uma lista de chaves como parâmetros e retorna um novo dicionário contendo apenas as chaves que estão presentes na lista."
   ]
  },
  {
   "cell_type": "code",
   "execution_count": null,
   "id": "0b7ee921",
   "metadata": {},
   "outputs": [],
   "source": [
    "# Implemente aqui a função filtrar_dicionario"
   ]
  },
  {
   "cell_type": "code",
   "execution_count": null,
   "id": "ebc131f6",
   "metadata": {},
   "outputs": [],
   "source": [
    "# Exemplo de uso:\n",
    "dados = {'a': 1, 'b': 2, 'c': 3, 'd': 4, 'e': 5}\n",
    "chaves_filtradas = ['a', 'c', 'e']\n",
    "resultado = filtrar_dicionario(dados, chaves_filtradas)\n",
    "print(resultado)\n",
    "# Saída esperada: {'a': 1, 'c': 3, 'e': 5}"
   ]
  },
  {
   "cell_type": "markdown",
   "id": "3203c51e",
   "metadata": {},
   "source": [
    "### Q5.\n",
    "\n",
    "Você está responsável por analisar os resultados de uma votação. Cada voto é representado por um dicionário com o nome do candidato e a quantidade de votos que recebeu em uma determinada sessão eleitoral. Escreva uma função chamada ```resultado_votacao``` que recebe uma lista de dicionários de votos e retorna um dicionário onde as chaves são os nomes dos candidatos, e os valores são tuplas ```(total, percentual)``` com o total de votos recebidos por cada candidato e o percentual em relação à soma total de votos em todos os candidatos. "
   ]
  },
  {
   "cell_type": "code",
   "execution_count": null,
   "id": "2c856eee",
   "metadata": {},
   "outputs": [],
   "source": [
    "# Implemente aqui a função resultado_votacao"
   ]
  },
  {
   "cell_type": "code",
   "execution_count": null,
   "id": "ff2044de",
   "metadata": {},
   "outputs": [],
   "source": [
    "# Exemplo de uso:\n",
    "votos = [\n",
    "    {'candidato_A': 120, 'candidato_B': 85, 'candidato_C': 90},\n",
    "    {'candidato_A': 110, 'candidato_B': 95, 'candidato_C': 80},\n",
    "    {'candidato_A': 130, 'candidato_B': 78, 'candidato_C': 105},\n",
    "]\n",
    "resultado = resultado_votacao(votos)\n",
    "print(resultado)  # Saída esperada: {'candidato_A': (360, 40.31), 'candidato_B': (258, 28.89), \n",
    "                                ###  'candidato_C': (275, 30.79)}"
   ]
  }
 ],
 "metadata": {
  "kernelspec": {
   "display_name": "Python 3 (ipykernel)",
   "language": "python",
   "name": "python3"
  },
  "language_info": {
   "codemirror_mode": {
    "name": "ipython",
    "version": 3
   },
   "file_extension": ".py",
   "mimetype": "text/x-python",
   "name": "python",
   "nbconvert_exporter": "python",
   "pygments_lexer": "ipython3",
   "version": "3.11.7"
  }
 },
 "nbformat": 4,
 "nbformat_minor": 5
}
