{
  "metadata": {
    "kernelspec": {
      "name": "python",
      "display_name": "Python (Pyodide)",
      "language": "python"
    },
    "language_info": {
      "codemirror_mode": {
        "name": "python",
        "version": 3
      },
      "file_extension": ".py",
      "mimetype": "text/x-python",
      "name": "python",
      "nbconvert_exporter": "python",
      "pygments_lexer": "ipython3",
      "version": "3.8"
    }
  },
  "nbformat_minor": 4,
  "nbformat": 4,
  "cells": [
    {
      "cell_type": "markdown",
      "source": "# Módulo 2\n\n## 2.3 Instruções e Expressões\n\n### Q1\n\nFaça um programa que armazene o valor de 20 reais de salário por hora de um trabalhador, e o número de 40 horas trabalhadas na semana. Com essas informações, calcule e imprima:\n- Salário semanal bruto\n- Valor descontado por semana INSS (10% do bruto)\n- Valor descontado por semana pelo sindicato (5% do bruto)\n- Salário semanal líquido (Bruto - Descontos)",
      "metadata": {}
    },
    {
      "cell_type": "code",
      "source": "salario_hora=(20.0)\nhoras_trabalhadas=(40)\nsalario_bruto=(salario_hora*horas_trabalhadas)\ninss=((salario_bruto*10)/100)\nsindicato=((salario_bruto*5)/100)\nsalario_liquido=(salario_bruto-(inss+sindicato))\nprint(\"Salário semanal bruto:\" ,salario_bruto)\nprint(\"Valor descontado por semana INSS:\" , inss)\nprint(\"Valor descontado por semana pelo sindicato:\" , sindicato)\nprint(\"Salário semanal líquido:\" , salario_liquido)",
      "metadata": {
        "trusted": true
      },
      "outputs": [
        {
          "name": "stdout",
          "text": "Salário semanal bruto: 800.0\nValor descontado por semana INSS: 80.0\nValor descontado por semana pelo sindicato: 40.0\nSalário semanal líquido: 680.0\n",
          "output_type": "stream"
        }
      ],
      "execution_count": 1
    },
    {
      "cell_type": "markdown",
      "source": "### Q2\n\nAltere o programa anterior para a partir dos valores de horas trabalhadas por semana e salário por hora, calcular **em somente duas instruções**:\n- Salário semanal bruto\n- Salário semanal líquido com todos os descontos. Para a segunda instrução, realize todos os cálculos aritméticos em uma expressão composta.",
      "metadata": {}
    },
    {
      "cell_type": "code",
      "source": "salario_hora=(20.0)\nhoras_trabalhadas=(40)\nsalario_bruto=(salario_hora*horas_trabalhadas)\nsalario_liquido=(salario_bruto-(((salario_bruto*10)/100)+((salario_bruto*5)/100)))\nprint(\"Salário semanal bruto:\" ,salario_bruto)\nprint(\"Salário semanal líquido:\" , salario_liquido)",
      "metadata": {
        "trusted": true
      },
      "outputs": [
        {
          "name": "stdout",
          "text": "Salário semanal bruto: 800.0\nSalário semanal líquido: 680.0\n",
          "output_type": "stream"
        }
      ],
      "execution_count": 2
    },
    {
      "cell_type": "markdown",
      "source": "### Q3\n\nVocê está desenvolvendo um software de conversão de moeda e precisa calcular o valor equivalente em yuan chinês a partir de uma quantia em real. A taxa de câmbio é de 0.69 BRL (real) para 1 CNY (yuan). Escreva um programa que define em uma variável uma quantia em reais (BRL) e calcula o valor equivalente em yuan (CNY). Imprima o resultado.",
      "metadata": {}
    },
    {
      "cell_type": "code",
      "source": "BRL=(5)\nCNY=(BRL*0.69)\nprint(\" O valor de \",BRL,\"reais equivale a \", CNY, \"yuan.\")",
      "metadata": {
        "trusted": true
      },
      "outputs": [
        {
          "name": "stdout",
          "text": " O valor de  5 reais equivale a  3.4499999999999997 yuan\n",
          "output_type": "stream"
        }
      ],
      "execution_count": 9
    },
    {
      "cell_type": "markdown",
      "source": "### Q4\n\nVocê é um treinador de corrida e deseja calcular a velocidade média que um atleta precisa manter para completar a Maratona Internacional de São Silvestre, que tem uma distância total de 42.195 km. A fórmula para calcular a velocidade média ($v\\_media$) é dada por $v\\_media = \\frac{distancia}{tempo}$ . Escreva um programa em Python para calcular a velocidade média necessária para completar a maratona em 3 horas.\n\n**Calcule e imprima o resultado em metros/segundo**, ou seja, converta a distância de quilômetros para metros ($metro = \\frac{km}{1000}$) e a velocidade de horas para segundos $(segundo = \\frac{hora}{3600})$.",
      "metadata": {}
    },
    {
      "cell_type": "code",
      "source": "distancia_km=42.195 \ntempo_horas=3 \ndistancia_metros=distancia_km*1000\ntempo_segundos=tempo_horas*3600\nvelocidade_media=distancia_metros/tempo_segundos\nprint(f\"A velocidade média necessária para completar a maratona em 3 horas é de {velocidade_media:.2f} metros/segundo.\")\n",
      "metadata": {
        "trusted": true
      },
      "outputs": [
        {
          "name": "stdout",
          "text": "A velocidade média necessária para completar a maratona em 3 horas é de 3.91 metros/segundo.\n",
          "output_type": "stream"
        }
      ],
      "execution_count": 20
    },
    {
      "cell_type": "code",
      "source": "",
      "metadata": {
        "trusted": true
      },
      "outputs": [],
      "execution_count": null
    }
  ]
}